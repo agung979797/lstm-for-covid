{
 "cells": [
  {
   "cell_type": "markdown",
   "metadata": {
    "id": "vnWzVYe9Fmf1"
   },
   "source": [
    "# Analisis Runtun Waktu menggunakan Long Short Term Memory (LSTM)\n",
    "LSTM adalah salah satu cabang ANN (Artificial Neural Network) yang dirancang khusus untuk menangani data sequensial (berurut). Maka dari itu LSTM sering digunakan untuk analisis runtun waktu, NLP (Natural Language Processing), Speech Recognition, dan lain-lain.\n",
    "\n",
    "Untuk yang masih asing dengan LSTM, saya pikir <a href=\"https://towardsdatascience.com/illustrated-guide-to-lstms-and-gru-s-a-step-by-step-explanation-44e9eb85bf21\">link ini</a>  bisa menjelaskan dengan sangat baik.\n",
    "\n",
    "Berikut ini merupakan penerapan LSTM dalam Analisis Runtun Waktu untuk memprediksi jumlah kasus COVID-19 di Indonesia.\n"
   ]
  },
  {
   "cell_type": "code",
   "execution_count": 1,
   "metadata": {
    "id": "sPKd2wnwT0_J"
   },
   "outputs": [],
   "source": [
    "# library\n",
    "\n",
    "import numpy as np\n",
    "import json\n",
    "import urllib.request\n",
    "import pandas as pd\n",
    "import matplotlib.pyplot as plt\n",
    "import seaborn as sns\n",
    "import warnings\n",
    "from sklearn.preprocessing import MinMaxScaler\n",
    "\n",
    "%matplotlib inline\n",
    "warnings.filterwarnings('ignore')"
   ]
  },
  {
   "cell_type": "markdown",
   "metadata": {
    "id": "U841Sfo7HKXf"
   },
   "source": [
    "# Memanggil dan Mempersiapkan Data\n",
    "#### Mengekstrak data COVID-19 melalui API 'mathdroid', selengkapnya bisa dilihat <a href=\"https://github.com/mathdroid/covid-19-api\">disini</a> \n"
   ]
  },
  {
   "cell_type": "code",
   "execution_count": 2,
   "metadata": {
    "colab": {
     "base_uri": "https://localhost:8080/",
     "height": 224
    },
    "id": "jArnvEtQStTf",
    "outputId": "0f23ffff-2db1-41be-d257-f0497547d05b"
   },
   "outputs": [
    {
     "data": {
      "text/html": [
       "<div>\n",
       "<style scoped>\n",
       "    .dataframe tbody tr th:only-of-type {\n",
       "        vertical-align: middle;\n",
       "    }\n",
       "\n",
       "    .dataframe tbody tr th {\n",
       "        vertical-align: top;\n",
       "    }\n",
       "\n",
       "    .dataframe thead th {\n",
       "        text-align: right;\n",
       "    }\n",
       "</style>\n",
       "<table border=\"1\" class=\"dataframe\">\n",
       "  <thead>\n",
       "    <tr style=\"text-align: right;\">\n",
       "      <th></th>\n",
       "      <th>harike</th>\n",
       "      <th>tanggal</th>\n",
       "      <th>jumlahKasusKumulatif</th>\n",
       "      <th>jumlahPasienSembuh</th>\n",
       "      <th>jumlahPasienMeninggal</th>\n",
       "      <th>jumlahPasienDalamPerawatan</th>\n",
       "      <th>jumlahKasusBaruperHari</th>\n",
       "      <th>jumlahKasusSembuhperHari</th>\n",
       "      <th>jumlahKasusMeninggalperHari</th>\n",
       "      <th>jumlahKasusDirawatperHari</th>\n",
       "      <th>persentasePasienSembuh</th>\n",
       "      <th>persentasePasienMeninggal</th>\n",
       "      <th>persentasePasiendalamPerawat</th>\n",
       "      <th>jumlahSpesimenDiperiksa</th>\n",
       "      <th>jumlahKasusDiperiksa</th>\n",
       "      <th>jumlahNegatif</th>\n",
       "      <th>spesimenDiperiksaBaruHarian</th>\n",
       "      <th>kasusDiperiksaBaruHarian</th>\n",
       "      <th>pdp</th>\n",
       "      <th>odp</th>\n",
       "      <th>penambahanKasusTerkonfirmasi</th>\n",
       "      <th>kasusSedangInvestigasiLapang</th>\n",
       "      <th>jumlahSpesimenDiperiksaTerki</th>\n",
       "      <th>jumlahKasusDiperiksaTerkini</th>\n",
       "      <th>hasilPositifTerkini</th>\n",
       "      <th>hasilNegatifTerkini</th>\n",
       "      <th>pdpTerkini</th>\n",
       "      <th>odpTerkini</th>\n",
       "      <th>suspekTerkini</th>\n",
       "      <th>jumlahProvinsiTerdampak</th>\n",
       "      <th>jumlahKabKotTerdampak</th>\n",
       "      <th>pembaruanTerakhir</th>\n",
       "      <th>fid</th>\n",
       "    </tr>\n",
       "  </thead>\n",
       "  <tbody>\n",
       "    <tr>\n",
       "      <th>0</th>\n",
       "      <td>1</td>\n",
       "      <td>1583107200000</td>\n",
       "      <td>2.0</td>\n",
       "      <td>0.0</td>\n",
       "      <td>0.0</td>\n",
       "      <td>2.0</td>\n",
       "      <td>2.0</td>\n",
       "      <td>0.0</td>\n",
       "      <td>0.0</td>\n",
       "      <td>2.0</td>\n",
       "      <td>0.0</td>\n",
       "      <td>0.0</td>\n",
       "      <td>100.0</td>\n",
       "      <td>NaN</td>\n",
       "      <td>339.0</td>\n",
       "      <td>335.0</td>\n",
       "      <td>26873.0</td>\n",
       "      <td>NaN</td>\n",
       "      <td>NaN</td>\n",
       "      <td>NaN</td>\n",
       "      <td>5754.0</td>\n",
       "      <td>84481.0</td>\n",
       "      <td>6059415.0</td>\n",
       "      <td>4079605.0</td>\n",
       "      <td>549508.0</td>\n",
       "      <td>3498055.0</td>\n",
       "      <td>13439.0</td>\n",
       "      <td>33504.0</td>\n",
       "      <td>72986.0</td>\n",
       "      <td>34.0</td>\n",
       "      <td>508.0</td>\n",
       "      <td>1.607333e+12</td>\n",
       "      <td>1</td>\n",
       "    </tr>\n",
       "    <tr>\n",
       "      <th>1</th>\n",
       "      <td>2</td>\n",
       "      <td>1583193600000</td>\n",
       "      <td>2.0</td>\n",
       "      <td>0.0</td>\n",
       "      <td>0.0</td>\n",
       "      <td>2.0</td>\n",
       "      <td>0.0</td>\n",
       "      <td>0.0</td>\n",
       "      <td>0.0</td>\n",
       "      <td>0.0</td>\n",
       "      <td>0.0</td>\n",
       "      <td>0.0</td>\n",
       "      <td>100.0</td>\n",
       "      <td>NaN</td>\n",
       "      <td>341.0</td>\n",
       "      <td>337.0</td>\n",
       "      <td>NaN</td>\n",
       "      <td>2.0</td>\n",
       "      <td>NaN</td>\n",
       "      <td>NaN</td>\n",
       "      <td>NaN</td>\n",
       "      <td>NaN</td>\n",
       "      <td>NaN</td>\n",
       "      <td>NaN</td>\n",
       "      <td>NaN</td>\n",
       "      <td>NaN</td>\n",
       "      <td>NaN</td>\n",
       "      <td>NaN</td>\n",
       "      <td>NaN</td>\n",
       "      <td>NaN</td>\n",
       "      <td>NaN</td>\n",
       "      <td>NaN</td>\n",
       "      <td>2</td>\n",
       "    </tr>\n",
       "    <tr>\n",
       "      <th>2</th>\n",
       "      <td>3</td>\n",
       "      <td>1583280000000</td>\n",
       "      <td>2.0</td>\n",
       "      <td>0.0</td>\n",
       "      <td>0.0</td>\n",
       "      <td>2.0</td>\n",
       "      <td>0.0</td>\n",
       "      <td>0.0</td>\n",
       "      <td>0.0</td>\n",
       "      <td>0.0</td>\n",
       "      <td>0.0</td>\n",
       "      <td>0.0</td>\n",
       "      <td>100.0</td>\n",
       "      <td>NaN</td>\n",
       "      <td>372.0</td>\n",
       "      <td>356.0</td>\n",
       "      <td>NaN</td>\n",
       "      <td>31.0</td>\n",
       "      <td>NaN</td>\n",
       "      <td>NaN</td>\n",
       "      <td>NaN</td>\n",
       "      <td>NaN</td>\n",
       "      <td>NaN</td>\n",
       "      <td>NaN</td>\n",
       "      <td>NaN</td>\n",
       "      <td>NaN</td>\n",
       "      <td>NaN</td>\n",
       "      <td>NaN</td>\n",
       "      <td>NaN</td>\n",
       "      <td>NaN</td>\n",
       "      <td>NaN</td>\n",
       "      <td>NaN</td>\n",
       "      <td>3</td>\n",
       "    </tr>\n",
       "    <tr>\n",
       "      <th>3</th>\n",
       "      <td>4</td>\n",
       "      <td>1583366400000</td>\n",
       "      <td>2.0</td>\n",
       "      <td>0.0</td>\n",
       "      <td>0.0</td>\n",
       "      <td>2.0</td>\n",
       "      <td>0.0</td>\n",
       "      <td>0.0</td>\n",
       "      <td>0.0</td>\n",
       "      <td>0.0</td>\n",
       "      <td>0.0</td>\n",
       "      <td>0.0</td>\n",
       "      <td>100.0</td>\n",
       "      <td>NaN</td>\n",
       "      <td>388.0</td>\n",
       "      <td>371.0</td>\n",
       "      <td>NaN</td>\n",
       "      <td>16.0</td>\n",
       "      <td>NaN</td>\n",
       "      <td>NaN</td>\n",
       "      <td>NaN</td>\n",
       "      <td>NaN</td>\n",
       "      <td>NaN</td>\n",
       "      <td>NaN</td>\n",
       "      <td>NaN</td>\n",
       "      <td>NaN</td>\n",
       "      <td>NaN</td>\n",
       "      <td>NaN</td>\n",
       "      <td>NaN</td>\n",
       "      <td>NaN</td>\n",
       "      <td>NaN</td>\n",
       "      <td>NaN</td>\n",
       "      <td>4</td>\n",
       "    </tr>\n",
       "    <tr>\n",
       "      <th>4</th>\n",
       "      <td>5</td>\n",
       "      <td>1583452800000</td>\n",
       "      <td>4.0</td>\n",
       "      <td>0.0</td>\n",
       "      <td>0.0</td>\n",
       "      <td>4.0</td>\n",
       "      <td>2.0</td>\n",
       "      <td>0.0</td>\n",
       "      <td>0.0</td>\n",
       "      <td>2.0</td>\n",
       "      <td>0.0</td>\n",
       "      <td>0.0</td>\n",
       "      <td>100.0</td>\n",
       "      <td>NaN</td>\n",
       "      <td>450.0</td>\n",
       "      <td>422.0</td>\n",
       "      <td>NaN</td>\n",
       "      <td>62.0</td>\n",
       "      <td>NaN</td>\n",
       "      <td>NaN</td>\n",
       "      <td>NaN</td>\n",
       "      <td>NaN</td>\n",
       "      <td>NaN</td>\n",
       "      <td>NaN</td>\n",
       "      <td>NaN</td>\n",
       "      <td>NaN</td>\n",
       "      <td>NaN</td>\n",
       "      <td>NaN</td>\n",
       "      <td>NaN</td>\n",
       "      <td>NaN</td>\n",
       "      <td>NaN</td>\n",
       "      <td>NaN</td>\n",
       "      <td>5</td>\n",
       "    </tr>\n",
       "  </tbody>\n",
       "</table>\n",
       "</div>"
      ],
      "text/plain": [
       "   harike        tanggal  ...  pembaruanTerakhir  fid\n",
       "0       1  1583107200000  ...       1.607333e+12    1\n",
       "1       2  1583193600000  ...                NaN    2\n",
       "2       3  1583280000000  ...                NaN    3\n",
       "3       4  1583366400000  ...                NaN    4\n",
       "4       5  1583452800000  ...                NaN    5\n",
       "\n",
       "[5 rows x 33 columns]"
      ]
     },
     "execution_count": 2,
     "metadata": {
      "tags": []
     },
     "output_type": "execute_result"
    }
   ],
   "source": [
    "inacov_url = 'https://indonesia-covid-19.mathdro.id/api/harian' \n",
    "inacov = urllib.request.urlopen(inacov_url)\n",
    "df = json.loads(inacov.read())\n",
    "df = df['data']\n",
    "df = pd.DataFrame(df)\n",
    "df.head()"
   ]
  },
  {
   "cell_type": "code",
   "execution_count": 3,
   "metadata": {
    "colab": {
     "base_uri": "https://localhost:8080/"
    },
    "id": "52tDhkdkVDQz",
    "outputId": "7ed89ebb-424f-4d0f-e86b-28bb55932016"
   },
   "outputs": [
    {
     "data": {
      "text/plain": [
       "spesimenDiperiksaBaruHarian     280\n",
       "pembaruanTerakhir               280\n",
       "jumlahKabKotTerdampak           280\n",
       "jumlahProvinsiTerdampak         280\n",
       "suspekTerkini                   280\n",
       "odpTerkini                      280\n",
       "pdpTerkini                      280\n",
       "hasilNegatifTerkini             280\n",
       "hasilPositifTerkini             280\n",
       "jumlahKasusDiperiksaTerkini     280\n",
       "jumlahSpesimenDiperiksaTerki    280\n",
       "kasusSedangInvestigasiLapang    280\n",
       "penambahanKasusTerkonfirmasi    280\n",
       "odp                             190\n",
       "pdp                             190\n",
       "jumlahSpesimenDiperiksa          45\n",
       "kasusDiperiksaBaruHarian          3\n",
       "jumlahNegatif                     1\n",
       "jumlahKasusDiperiksa              1\n",
       "persentasePasiendalamPerawat      1\n",
       "persentasePasienMeninggal         1\n",
       "persentasePasienSembuh            1\n",
       "jumlahKasusDirawatperHari         1\n",
       "jumlahKasusMeninggalperHari       1\n",
       "jumlahKasusSembuhperHari          1\n",
       "jumlahKasusBaruperHari            1\n",
       "jumlahPasienDalamPerawatan        1\n",
       "jumlahPasienMeninggal             1\n",
       "jumlahPasienSembuh                1\n",
       "jumlahKasusKumulatif              1\n",
       "tanggal                           0\n",
       "fid                               0\n",
       "harike                            0\n",
       "dtype: int64"
      ]
     },
     "execution_count": 3,
     "metadata": {
      "tags": []
     },
     "output_type": "execute_result"
    }
   ],
   "source": [
    "# mengecek data yg hilang untuk setiap kolom\n",
    "\n",
    "df.isnull().sum().sort_values(ascending=False)"
   ]
  },
  {
   "cell_type": "markdown",
   "metadata": {
    "id": "7ptI9OZ9P4Xy"
   },
   "source": [
    "#### Memilih kolom 'JumlahKasusBaruperHari' sebagai variabel yang akan dianalisis"
   ]
  },
  {
   "cell_type": "code",
   "execution_count": 4,
   "metadata": {
    "id": "r7Ta3aoSVP7y"
   },
   "outputs": [],
   "source": [
    "confirmed = df[['jumlahKasusBaruperHari', 'harike']]\n",
    "confirmed.dropna(axis=0, inplace=True)\n",
    "confirmed = confirmed.rename(columns={'jumlahKasusBaruperHari' : 'Jumlah Kasus Baru', 'harike' : 'Hari'})"
   ]
  },
  {
   "cell_type": "code",
   "execution_count": 5,
   "metadata": {
    "id": "IzSc1SxZd648"
   },
   "outputs": [],
   "source": [
    "confirmed['Jumlah Kasus Baru'] = confirmed['Jumlah Kasus Baru'].astype('int64')\n",
    "confirmed = confirmed.set_index('Hari')"
   ]
  },
  {
   "cell_type": "markdown",
   "metadata": {
    "id": "Od9jImdMP4Xy"
   },
   "source": [
    "#### Melihat stasioneritas data melalui visualisasi dan ADF-test"
   ]
  },
  {
   "cell_type": "code",
   "execution_count": 6,
   "metadata": {
    "colab": {
     "base_uri": "https://localhost:8080/",
     "height": 513
    },
    "id": "1W7LKOReev8R",
    "outputId": "64164d95-fc30-4cd2-cebb-258630d6279c"
   },
   "outputs": [
    {
     "data": {
      "image/png": "[encoded data removed]",
      "text/plain": [
       "<Figure size 1296x576 with 2 Axes>"
      ]
     },
     "metadata": {
      "needs_background": "light",
      "tags": []
     },
     "output_type": "display_data"
    }
   ],
   "source": [
    "fig, ax = plt.subplots(1, 2, figsize=(18,8))\n",
    "\n",
    "ax[0].plot(confirmed['Jumlah Kasus Baru'])\n",
    "ax[0].set_xlabel('Hari')\n",
    "ax[0].set_title('Penambahan Kasus COVID-19 per Hari di Indonesia')\n",
    "\n",
    "ax[1].hist(confirmed['Jumlah Kasus Baru'])\n",
    "ax[1].set_title('Distribusi Penambahan Kasus COVID-19 di Indonesia')\n",
    "\n",
    "plt.show()"
   ]
  },
  {
   "cell_type": "code",
   "execution_count": 7,
   "metadata": {
    "colab": {
     "base_uri": "https://localhost:8080/"
    },
    "id": "ASmLncz2lGbu",
    "outputId": "d842f738-f154-430e-ca19-08052f00d8dd"
   },
   "outputs": [
    {
     "name": "stdout",
     "output_type": "stream",
     "text": [
      "ADF Statistics :  0.8929314904721164\n",
      "p-value :  0.9929973835455745\n",
      "Data Tidak Stasioner\n"
     ]
    }
   ],
   "source": [
    "from statsmodels.tsa.stattools import adfuller\n",
    "\n",
    "adf_test = adfuller(confirmed['Jumlah Kasus Baru'].values)\n",
    "print('ADF Statistics : ', adf_test[0])\n",
    "print('p-value : ', adf_test[1])\n",
    "if adf_test[1] < 0.05:\n",
    "  print('Data Stasioner')\n",
    "else:\n",
    "  print('Data Tidak Stasioner')"
   ]
  },
  {
   "cell_type": "markdown",
   "metadata": {
    "id": "Ot9gGybYP4Xz"
   },
   "source": [
    "Dari kedua tes diatas, dapat diketahui bahwa data tidak membentuk pola stasioner dan lebih condong membentuk pola trend naik."
   ]
  },
  {
   "cell_type": "markdown",
   "metadata": {
    "id": "e-23v9_wP4X0"
   },
   "source": [
    "#### Standarisasi dengan mengubah data menjadi dalam rentang (0, 1)"
   ]
  },
  {
   "cell_type": "code",
   "execution_count": 8,
   "metadata": {
    "id": "PrAa5aC3EdSm"
   },
   "outputs": [],
   "source": [
    "scaler = MinMaxScaler(feature_range=(0, 1))\n",
    "data = scaler.fit_transform(confirmed)"
   ]
  },
  {
   "cell_type": "markdown",
   "metadata": {
    "id": "Xsz1Zua6P4X0"
   },
   "source": [
    "#### Membagi data train (untuk membuat model) dan test (membuat prediksi)"
   ]
  },
  {
   "cell_type": "code",
   "execution_count": 9,
   "metadata": {
    "id": "qq-n0QqlGXh4"
   },
   "outputs": [],
   "source": [
    "train_idx = int(len(data)*0.7)\n",
    "\n",
    "train = data[:train_idx]\n",
    "test = data[train_idx:]"
   ]
  },
  {
   "cell_type": "markdown",
   "metadata": {
    "id": "GRcx3UgEP4X0"
   },
   "source": [
    "#### Membuat fungsi untuk mengubah format data time series agar bisa dianalisis menggunakan LSTM.\n",
    "Fungsi ini dibuat khusus untuk analisis time series univariat, agar bisa mengubah bentuk data yang 1 (variabel feature) variabel menjadi 2 variabel (variabel feature dan target).\n",
    "Pada fungsi ini juga dibuat argumen 'step_size' untuk menentukan rentang dan shape dari variabel featurenya.\n",
    "\n",
    "Note : jumlah 'step_size' bisa diubah sesuai kebutuhan.\n",
    "\n",
    "Contoh:"
   ]
  },
  {
   "cell_type": "markdown",
   "metadata": {
    "id": "R-AFaHyHP4X0"
   },
   "source": [
    "| No | | feature |\n",
    "|----| |---------|\n",
    "| 1  | |   12    |\n",
    "| 2  | |   15    |\n",
    "| 3  | |   18    |\n",
    "| 4  | |   11    |"
   ]
  },
  {
   "cell_type": "markdown",
   "metadata": {
    "id": "MRVhn9OkP4X1"
   },
   "source": [
    "dengan menggunakan step_size=2, data akan berubah menjadi:"
   ]
  },
  {
   "cell_type": "markdown",
   "metadata": {
    "id": "02hCLH60P4X1"
   },
   "source": [
    "| No | |  feature  | | target |\n",
    "|----| |-----------| |--------|\n",
    "| 1  | |  [12, 15] | |   18   |\n",
    "| 2  | |  [15, 18] | |   11   |"
   ]
  },
  {
   "cell_type": "code",
   "execution_count": 10,
   "metadata": {
    "id": "9POWl4Pt8QrO"
   },
   "outputs": [],
   "source": [
    "def buat_data(data, step_size=1):\n",
    "    X, y = [], []\n",
    "    for i in range(len(data)):\n",
    "      akhir = i + step_size\n",
    "      if akhir >= len(data):\n",
    "        break\n",
    "      Xa = data[i:akhir]\n",
    "      ya = data[akhir]\n",
    "      X.append(Xa)\n",
    "      y.append(ya)\n",
    "    return np.array(X), np.array(y)"
   ]
  },
  {
   "cell_type": "code",
   "execution_count": 11,
   "metadata": {
    "id": "xN5Yk5p0HeOX"
   },
   "outputs": [],
   "source": [
    "step_size = 2\n",
    "X_train, y_train = buat_data(train, step_size=step_size)\n",
    "X_test, y_test = buat_data(test, step_size=step_size)"
   ]
  },
  {
   "cell_type": "code",
   "execution_count": 12,
   "metadata": {
    "colab": {
     "base_uri": "https://localhost:8080/"
    },
    "id": "kJNnZhKI3tzn",
    "outputId": "8fa642d5-e262-4a19-c0fe-c60a35d1fa38"
   },
   "outputs": [
    {
     "data": {
      "text/plain": [
       "(194, 2, 1)"
      ]
     },
     "execution_count": 12,
     "metadata": {
      "tags": []
     },
     "output_type": "execute_result"
    }
   ],
   "source": [
    "X_train.shape"
   ]
  },
  {
   "cell_type": "markdown",
   "metadata": {
    "id": "tpBdHY6HP4X1"
   },
   "source": [
    "# Membuat model\n",
    "Model dibuat dengan menggunakan Vanilla LSTM, yaitu LSTM dengan jumlah 1 hidden layer. Model terdiri atas:\n",
    "- model Sequential() berarti kita telah membuat _fully connected layers_\n",
    "- 50 buah LSTM layers pada input sekaligus hidden layer\n",
    "- 1 buah output layer, dimana 1 layer digunakan karena kasus kali ini merupakan contoh kasus prediksi.\n",
    "- _adam_ optimizer, pembaruan dari _stochastic gradient descent_ dalam mengupdate bobotnya.\n",
    "- mse sebagai _loss function_"
   ]
  },
  {
   "cell_type": "code",
   "execution_count": 15,
   "metadata": {
    "id": "Pt6bdf6WTuW-"
   },
   "outputs": [],
   "source": [
    "import tensorflow as tf\n",
    "from keras.models import Sequential\n",
    "from keras.layers import LSTM, Dense\n",
    "\n",
    "model = Sequential()\n",
    "model.add(LSTM(64, input_shape=(X_train.shape[1], 1)))\n",
    "model.add(Dense(1))\n",
    "\n",
    "model.compile(optimizer='adam',\n",
    "              loss=tf.keras.losses.MeanSquaredError())\n",
    "\n",
    "history = model.fit(X_train, y_train, epochs=100, batch_size=1, verbose=0)"
   ]
  },
  {
   "cell_type": "code",
   "execution_count": 26,
   "metadata": {
    "colab": {
     "base_uri": "https://localhost:8080/",
     "height": 312
    },
    "id": "6poE47DxU4Ts",
    "outputId": "9d559382-9ee9-4132-a710-9c3a6bcef3a6"
   },
   "outputs": [
    {
     "name": "stdout",
     "output_type": "stream",
     "text": [
      "Nilai MSE pada epoch ke-100 adalah 0.0006545113283209503\n"
     ]
    },
    {
     "data": {
      "image/png": "[encoded data removed]",
      "text/plain": [
       "<Figure size 432x288 with 1 Axes>"
      ]
     },
     "metadata": {
      "needs_background": "light",
      "tags": []
     },
     "output_type": "display_data"
    }
   ],
   "source": [
    "loss_df = pd.DataFrame(history.history)\n",
    "loss_df['loss'].plot()\n",
    "print('Nilai MSE pada epoch ke-100 adalah {}'.format(loss_df['loss'][99]))\n",
    "plt.title('MSE')\n",
    "plt.xlabel('Loss')\n",
    "plt.ylabel('Epochs')\n",
    "plt.legend()\n",
    "plt.show()"
   ]
  },
  {
   "cell_type": "markdown",
   "metadata": {
    "id": "LYEqR5dWP4X2"
   },
   "source": [
    "Nilai MSE yang didapatkan setelah 100 _epochs_ bisa dikatakan cukup kecil, dimana ini menandakan bahwa model yang dibangun cukup baik untuk melakukan prediksi"
   ]
  },
  {
   "cell_type": "markdown",
   "metadata": {
    "id": "J9S3W6OvP4X2"
   },
   "source": [
    "# Prediksi"
   ]
  },
  {
   "cell_type": "code",
   "execution_count": null,
   "metadata": {
    "id": "_xZ1g4AQMLwO"
   },
   "outputs": [],
   "source": [
    "predict = model.predict(X_test)"
   ]
  },
  {
   "cell_type": "code",
   "execution_count": null,
   "metadata": {
    "id": "O5hmk5ppBoEt"
   },
   "outputs": [],
   "source": [
    "test = test[:-2]\n",
    "test = np.reshape(test, test.shape[0])"
   ]
  },
  {
   "cell_type": "code",
   "execution_count": null,
   "metadata": {
    "colab": {
     "base_uri": "https://localhost:8080/",
     "height": 282
    },
    "id": "skhT1DhtBKhp",
    "outputId": "695fff49-9de0-4e62-cae4-c7867705831d"
   },
   "outputs": [
    {
     "data": {
      "text/plain": [
       "<matplotlib.legend.Legend at 0x7f787f949518>"
      ]
     },
     "execution_count": 155,
     "metadata": {
      "tags": []
     },
     "output_type": "execute_result"
    },
    {
     "data": {
      "image/png": "[encoded data removed]",
      "text/plain": [
       "<Figure size 432x288 with 1 Axes>"
      ]
     },
     "metadata": {
      "needs_background": "light",
      "tags": []
     },
     "output_type": "display_data"
    }
   ],
   "source": [
    "plt.plot(confirmed.index[196:278], test, label='Actual COVID-19 Cases')\n",
    "plt.plot(confirmed.index[196:278], forecasting, label='Predicted COVID-19 Cases')\n",
    "plt.legend()"
   ]
  }
 ],
 "metadata": {
  "colab": {
   "collapsed_sections": [],
   "name": "cov19 (1).ipynb",
   "provenance": []
  },
  "kernelspec": {
   "display_name": "Python 3",
   "language": "python",
   "name": "python3"
  },
  "language_info": {
   "codemirror_mode": {
    "name": "ipython",
    "version": 3
   },
   "file_extension": ".py",
   "mimetype": "text/x-python",
   "name": "python",
   "nbconvert_exporter": "python",
   "pygments_lexer": "ipython3",
   "version": "3.8.0"
  }
 },
 "nbformat": 4,
 "nbformat_minor": 1
}
